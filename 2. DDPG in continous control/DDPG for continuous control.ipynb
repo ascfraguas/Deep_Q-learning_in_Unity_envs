{
 "cells": [
  {
   "cell_type": "markdown",
   "metadata": {},
   "source": [
    "# Navigation\n",
    "\n",
    "---\n",
    "\n",
    "## 1. Introduction\n",
    "\n",
    "In this notebook, we solve a prebuilt Reacher environment from the [Unity ML-Agents](https://github.com/Unity-Technologies/ml-agents/blob/master/docs/Installation.md) engine using a vanilla version of the `Deep Deterministic Policy Gradients` (DDPG) algorithm."
   ]
  },
  {
   "cell_type": "code",
   "execution_count": 1,
   "metadata": {},
   "outputs": [],
   "source": [
    "# Imports\n",
    "from unityagents import UnityEnvironment\n",
    "import numpy as np\n",
    "from DDPG import *"
   ]
  },
  {
   "cell_type": "markdown",
   "metadata": {},
   "source": [
    "## 2. Description of the environment and example run\n",
    "\n",
    "The simulation contains a single agent, a robot armed with a single two-jointed arm. Around the agent, a spheric volume moves and shifts positions, while the goal of the agent is to keep the end of the arm inside of the volume at any given timestep. The environment is better described as follows:\n",
    "\n",
    "- **State space**: The state space dimension `33`, where the dimension corresponds to sensory input including position, rotation, velocity, and angular velocities of the arm. \n",
    "- **Action space**: Each action is a vector with `4` numbers, corresponding to torque applicable to two joints. Every entry in the action vector should be a number between -1 and 1.\n",
    "- **Rewards**: A reward of `+0.1` is provided for each step that the agent's hand is in the goal location.\n",
    "\n",
    "\n",
    "---\n",
    "\n",
    "### 2.1. Exploring the environment\n",
    "\n",
    "We explore the environment in the code below"
   ]
  },
  {
   "cell_type": "code",
   "execution_count": 2,
   "metadata": {},
   "outputs": [
    {
     "name": "stderr",
     "output_type": "stream",
     "text": [
      "INFO:unityagents:\n",
      "'Academy' started successfully!\n",
      "Unity Academy name: Academy\n",
      "        Number of Brains: 1\n",
      "        Number of External Brains : 1\n",
      "        Lesson number : 0\n",
      "        Reset Parameters :\n",
      "\t\tgoal_speed -> 1.0\n",
      "\t\tgoal_size -> 5.0\n",
      "Unity brain name: ReacherBrain\n",
      "        Number of Visual Observations (per agent): 0\n",
      "        Vector Observation space type: continuous\n",
      "        Vector Observation space size (per agent): 33\n",
      "        Number of stacked Vector Observation: 1\n",
      "        Vector Action space type: continuous\n",
      "        Vector Action space size (per agent): 4\n",
      "        Vector Action descriptions: , , , \n"
     ]
    },
    {
     "name": "stdout",
     "output_type": "stream",
     "text": [
      "Number of agents in the environment: 1\n",
      "Total dimensions in state: 33\n",
      "States look like: [ 0.00000000e+00 -4.00000000e+00  0.00000000e+00  1.00000000e+00\n",
      " -0.00000000e+00 -0.00000000e+00 -4.37113883e-08  0.00000000e+00\n",
      "  0.00000000e+00  0.00000000e+00  0.00000000e+00  0.00000000e+00\n",
      "  0.00000000e+00  0.00000000e+00 -1.00000000e+01  0.00000000e+00\n",
      "  1.00000000e+00 -0.00000000e+00 -0.00000000e+00 -4.37113883e-08\n",
      "  0.00000000e+00  0.00000000e+00  0.00000000e+00  0.00000000e+00\n",
      "  0.00000000e+00  0.00000000e+00  5.75471878e+00 -1.00000000e+00\n",
      "  5.55726671e+00  0.00000000e+00  1.00000000e+00  0.00000000e+00\n",
      " -1.68164849e-01]\n",
      "Action space dimension: 4\n"
     ]
    }
   ],
   "source": [
    "##########################\n",
    "#### THE ENVIRONMENT #####\n",
    "##########################\n",
    "\n",
    "# Initialize the environment\n",
    "env = UnityEnvironment(file_name=\"Reacher_Windows_x86_64//Reacher.x86_64\")\n",
    "\n",
    "# Unity environment agents are represented by brains. In this environment we only have one brain, the robotic arm to be trained\n",
    "print('Number of agents in the environment:', len(env.brain_names))\n",
    "brain_name = env.brain_names[0]\n",
    "brain = env.brains[brain_name]\n",
    "\n",
    "\n",
    "\n",
    "##########################\n",
    "#### THE STATE SPACE #####\n",
    "##########################\n",
    "\n",
    "env_info = env.reset(train_mode=True)[brain_name]\n",
    "state = env_info.vector_observations[0]\n",
    "print('Total dimensions in state:', len(state))\n",
    "print('States look like:', state)\n",
    "\n",
    "\n",
    "\n",
    "######################\n",
    "## THE ACTION SPACE ##\n",
    "######################\n",
    "\n",
    "print('Action space dimension:', brain.vector_action_space_size)\n"
   ]
  },
  {
   "cell_type": "markdown",
   "metadata": {},
   "source": [
    "### 2.2. Example run"
   ]
  },
  {
   "cell_type": "markdown",
   "metadata": {},
   "source": [
    "Let's see how a random agent would perform"
   ]
  },
  {
   "cell_type": "code",
   "execution_count": 3,
   "metadata": {},
   "outputs": [
    {
     "name": "stdout",
     "output_type": "stream",
     "text": [
      "Final score: 0.40999999083578587\n"
     ]
    }
   ],
   "source": [
    "# Reset the environment, assign the initial state and initialize the score\n",
    "env_info = env.reset(train_mode=False)[brain_name] \n",
    "state = env_info.vector_observations[0]            \n",
    "score = 0                                          \n",
    "\n",
    "# Play the environment\n",
    "while True:\n",
    "    \n",
    "    # Select an action at random and send it to the environment\n",
    "    action = np.random.normal(0,1,4).clip(-1,1)   \n",
    "    env_info = env.step(action)[brain_name]        \n",
    "    \n",
    "    # Collect the next state and the reward\n",
    "    next_state = env_info.vector_observations[0]   \n",
    "    reward = env_info.rewards[0]                   \n",
    "    score += reward\n",
    "    \n",
    "    # Move onto the next state and exit if it's terminal\n",
    "    done = env_info.local_done[0]                  \n",
    "    state = next_state                             \n",
    "    if done: break\n",
    "    \n",
    "print(\"Final score: {}\".format(score))\n",
    "env.close()\n"
   ]
  },
  {
   "cell_type": "markdown",
   "metadata": {},
   "source": [
    "## 3. Training an agent (restart the kernel before running)"
   ]
  },
  {
   "cell_type": "markdown",
   "metadata": {},
   "source": [
    "Initialize the agent and the environment:"
   ]
  },
  {
   "cell_type": "code",
   "execution_count": 1,
   "metadata": {},
   "outputs": [
    {
     "name": "stderr",
     "output_type": "stream",
     "text": [
      "INFO:unityagents:\n",
      "'Academy' started successfully!\n",
      "Unity Academy name: Academy\n",
      "        Number of Brains: 1\n",
      "        Number of External Brains : 1\n",
      "        Lesson number : 0\n",
      "        Reset Parameters :\n",
      "\t\tgoal_speed -> 1.0\n",
      "\t\tgoal_size -> 5.0\n",
      "Unity brain name: ReacherBrain\n",
      "        Number of Visual Observations (per agent): 0\n",
      "        Vector Observation space type: continuous\n",
      "        Vector Observation space size (per agent): 33\n",
      "        Number of stacked Vector Observation: 1\n",
      "        Vector Action space type: continuous\n",
      "        Vector Action space size (per agent): 4\n",
      "        Vector Action descriptions: , , , \n"
     ]
    }
   ],
   "source": [
    "# Imports\n",
    "from unityagents import UnityEnvironment\n",
    "import numpy as np\n",
    "from DDPG import *\n",
    "from collections import deque\n",
    "import torch\n",
    "import matplotlib.pyplot as plt\n",
    "\n",
    "# Initialize the environment and assign the brain\n",
    "env = UnityEnvironment(file_name=\"Reacher_Windows_x86_64//Reacher.x86_64\")\n",
    "brain_name = env.brain_names[0]\n",
    "brain = env.brains[brain_name]\n",
    "\n",
    "# Reset environment and assign initial state\n",
    "env_info = env.reset(train_mode=True)[brain_name]\n",
    "state = env_info.vector_observations[0]\n",
    "\n",
    "# Start an agent\n",
    "agent = Agent(state_size = len(state), \n",
    "              action_size = brain.vector_action_space_size, \n",
    "              seed = 42)\n"
   ]
  },
  {
   "cell_type": "markdown",
   "metadata": {},
   "source": [
    "Main algorithm"
   ]
  },
  {
   "cell_type": "code",
   "execution_count": 2,
   "metadata": {},
   "outputs": [],
   "source": [
    "def ddpg(n_episodes=5000, \n",
    "         eps_start=0.6, \n",
    "         eps_end=0.0005, \n",
    "         eps_decay=0.98):\n",
    "    \n",
    "    ''' Train a Deep Deterministic Policy Gradient agent to solve the environment '''\n",
    "    \n",
    "    scores = []                        # list containing scores from each episode\n",
    "    scores_window = deque(maxlen=100)  # last 100 scores\n",
    "    eps = eps_start                    # initialize epsilon\n",
    "    \n",
    "    # For each one of the training episodes\n",
    "    for i_episode in range(1, n_episodes+1):\n",
    "        \n",
    "        # Restart the environment and the score\n",
    "        env_info = env.reset(train_mode=True)[brain_name]\n",
    "        state = env_info.vector_observations[0]\n",
    "        score = 0\n",
    "        \n",
    "        # Play the episode\n",
    "        done = False\n",
    "        while not done:\n",
    "            \n",
    "            # Have the agent pick an epsilon-greedy action wrt its current policy (i.e. exploration defined as a noise term)\n",
    "            action = agent.act(state, eps)\n",
    "            \n",
    "            # Take the action and store environment output\n",
    "            env_info = env.step(action.data.numpy())[brain_name]\n",
    "            next_state = env_info.vector_observations[0]   \n",
    "            reward = env_info.rewards[0]    \n",
    "            done = env_info.local_done[0]  \n",
    "            \n",
    "            # Update agent's knowledge\n",
    "            agent.step(state, action, reward, next_state, done)\n",
    "            \n",
    "            # Set new state as current and update the agent's score\n",
    "            score += reward   \n",
    "            state = next_state\n",
    "            \n",
    "        # When the episode is done, save scores into our lists, and decrease the epsilon for the next episode\n",
    "        scores_window.append(score)       \n",
    "        scores.append(score)              \n",
    "        eps = max(eps_end, eps_decay*eps)\n",
    "        if i_episode % 20 == 0:\n",
    "            print('\\rEpisode {}\\tAverage Score: {:.2f}'.format(i_episode, np.mean(scores_window)))\n",
    "            \n",
    "        # When the agent is trained, we save the weights of the Q-network and exit the routine\n",
    "        if np.mean(scores_window)>=30.0:\n",
    "            print('\\nEnvironment solved in {:d} episodes!\\tAverage Score: {:.2f}'.format(i_episode-100, np.mean(scores_window)))\n",
    "            break\n",
    "            \n",
    "    torch.save(agent.actor_local.state_dict(), 'trained_agent.pth')\n",
    "            \n",
    "    return scores\n"
   ]
  },
  {
   "cell_type": "markdown",
   "metadata": {},
   "source": [
    "Execution of the algorihtm"
   ]
  },
  {
   "cell_type": "code",
   "execution_count": 3,
   "metadata": {},
   "outputs": [
    {
     "name": "stdout",
     "output_type": "stream",
     "text": [
      "Episode 20\tAverage Score: 0.24\n",
      "Episode 40\tAverage Score: 0.81\n",
      "Episode 60\tAverage Score: 1.03\n",
      "Episode 80\tAverage Score: 1.46\n",
      "Episode 100\tAverage Score: 3.15\n",
      "Episode 120\tAverage Score: 6.25\n",
      "Episode 140\tAverage Score: 11.29\n",
      "Episode 160\tAverage Score: 17.28\n",
      "Episode 180\tAverage Score: 23.04\n",
      "Episode 200\tAverage Score: 27.88\n",
      "\n",
      "Environment solved in 111 episodes!\tAverage Score: 30.08\n"
     ]
    },
    {
     "data": {
      "image/png": "[encoded data removed]",
      "text/plain": [
       "<Figure size 720x360 with 1 Axes>"
      ]
     },
     "metadata": {
      "needs_background": "light"
     },
     "output_type": "display_data"
    }
   ],
   "source": [
    "scores = ddpg()\n",
    "\n",
    "plt.figure(figsize=(10,5))\n",
    "plt.plot(np.arange(len(scores)), scores)\n",
    "plt.ylabel('Score')\n",
    "plt.xlabel('Episode #')\n",
    "plt.title(\"Evolution of agent's average performance\")\n",
    "plt.grid(alpha=0.8)\n",
    "plt.show()"
   ]
  },
  {
   "cell_type": "markdown",
   "metadata": {},
   "source": [
    "## 4. Our agent in action! (restart the kernel before running)"
   ]
  },
  {
   "cell_type": "markdown",
   "metadata": {},
   "source": [
    "We leverage the network weights learned in section 3 to create an intelligent agent, and watch it interact with its environment."
   ]
  },
  {
   "cell_type": "code",
   "execution_count": 1,
   "metadata": {},
   "outputs": [
    {
     "name": "stderr",
     "output_type": "stream",
     "text": [
      "INFO:unityagents:\n",
      "'Academy' started successfully!\n",
      "Unity Academy name: Academy\n",
      "        Number of Brains: 1\n",
      "        Number of External Brains : 1\n",
      "        Lesson number : 0\n",
      "        Reset Parameters :\n",
      "\t\tgoal_speed -> 1.0\n",
      "\t\tgoal_size -> 5.0\n",
      "Unity brain name: ReacherBrain\n",
      "        Number of Visual Observations (per agent): 0\n",
      "        Vector Observation space type: continuous\n",
      "        Vector Observation space size (per agent): 33\n",
      "        Number of stacked Vector Observation: 1\n",
      "        Vector Action space type: continuous\n",
      "        Vector Action space size (per agent): 4\n",
      "        Vector Action descriptions: , , , \n"
     ]
    },
    {
     "name": "stdout",
     "output_type": "stream",
     "text": [
      "Final score: 37.469999162480235\n"
     ]
    }
   ],
   "source": [
    "# Imports\n",
    "from unityagents import UnityEnvironment\n",
    "import numpy as np\n",
    "from DDPG import *\n",
    "from collections import deque\n",
    "import torch\n",
    "\n",
    "# Initialize the environment and assign the brain\n",
    "env = UnityEnvironment(file_name=\"Reacher_Windows_x86_64//Reacher.x86_64\")\n",
    "brain_name = env.brain_names[0]\n",
    "brain = env.brains[brain_name]\n",
    "\n",
    "# Reset the environment, assign the initial state and initialize the score\n",
    "for i in range(5): env_info = env.reset(train_mode=False)[brain_name] \n",
    "state = env_info.vector_observations[0]            \n",
    "score = 0       \n",
    "\n",
    "# Start an agent and assign it the trained network\n",
    "agent = Agent(state_size = len(state), \n",
    "              action_size = brain.vector_action_space_size, \n",
    "              seed = 42)\n",
    "\n",
    "agent.actor_local.load_state_dict(torch.load('trained_agent.pth'))\n",
    "\n",
    "                 \n",
    "# Play the environment\n",
    "while True:\n",
    "    \n",
    "    # Have the agent pick a greedy action wrt its current policy\n",
    "    action = agent.act(state, 0)\n",
    "\n",
    "    # Take the action and store environment output\n",
    "    env_info = env.step(action.data.numpy())[brain_name]\n",
    "    next_state = env_info.vector_observations[0]   \n",
    "    reward = env_info.rewards[0]  \n",
    "    score += reward\n",
    "\n",
    "    # Move onto the next state and exit if it's terminal\n",
    "    done = env_info.local_done[0]                  \n",
    "    state = next_state                             \n",
    "    if done: break\n",
    "    \n",
    "print(\"Final score: {}\".format(score))\n",
    "env.close()"
   ]
  }
 ],
 "metadata": {
  "kernelspec": {
   "display_name": "Python 3",
   "language": "python",
   "name": "python3"
  },
  "language_info": {
   "codemirror_mode": {
    "name": "ipython",
    "version": 3
   },
   "file_extension": ".py",
   "mimetype": "text/x-python",
   "name": "python",
   "nbconvert_exporter": "python",
   "pygments_lexer": "ipython3",
   "version": "3.6.9"
  }
 },
 "nbformat": 4,
 "nbformat_minor": 2
}
